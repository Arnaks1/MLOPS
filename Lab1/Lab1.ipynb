{
 "cells": [
  {
   "cell_type": "markdown",
   "id": "fd02c909-e0f3-4b14-a67f-abd4f7459a1e",
   "metadata": {},
   "source": [
    "Основы работы с conda"
   ]
  },
  {
   "cell_type": "markdown",
   "id": "82785b6d-09b9-4ee8-9a17-13dfd9db79bb",
   "metadata": {},
   "source": [
    "conda — это менеджер пакетов и окружений, который часто используется в Data Science и MLOps для управления зависимостями и изоляции проектов.\n",
    "\n",
    "Если у тебя еще не установлен conda, ты можешь установить его, скачав Miniconda #[https://docs.conda.io/en/latest/miniconda.html] или Anaconda [https://www.anaconda.com/download]."
   ]
  },
  {
   "cell_type": "markdown",
   "id": "e670524c-8490-43ca-a83b-eb8167230215",
   "metadata": {},
   "source": [
    "## Основные команды conda\n",
    "### 1. Создание нового окружения:\n",
    "conda create --name test_env python=3.10\n",
    "### 2. Активация окружения:\n",
    "conda activate myenv\n",
    "### 3. Деактивация окружения:\n",
    "conda deactivate\n",
    "### 4. Установка пакетов:\n",
    "conda install numpy pandas\n",
    "### 5. Удаление пакетов:\n",
    "conda remove numpy\n",
    "### 6. Экспорт окружения в файл:\n",
    "conda env export > environment.yml"
   ]
  },
  {
   "cell_type": "code",
   "execution_count": 2,
   "id": "ec6e3861-63f7-4ace-8b00-7b3fbbebe053",
   "metadata": {},
   "outputs": [
    {
     "name": "stdout",
     "output_type": "stream",
     "text": [
      "\n",
      "Host Name:                     ARNAKS-BIG\n",
      "OS Name:                       РњР°Р№РєСЂРѕСЃРѕС„С‚ Windows 11 РљРѕСЂРїРѕСЂР°С‚РёРІРЅР°СЏ\n",
      "OS Version:                    10.0.26100 N/A Build 26100\n",
      "OS Manufacturer:               Microsoft Corporation\n",
      "OS Configuration:              Standalone Workstation\n",
      "OS Build Type:                 Multiprocessor Free\n",
      "Registered Owner:              Р РѕРјР°РЅ\n",
      "Registered Organization:       \n",
      "Product ID:                    00329-10180-00000-AA850\n",
      "Original Install Date:         04.12.2024, 5:13:25\n",
      "System Boot Time:              28.03.2025, 7:00:47\n",
      "System Manufacturer:           Acer\n",
      "System Model:                  Nitro AN515-57\n",
      "System Type:                   x64-based PC\n",
      "Processor(s):                  1 Processor(s) Installed.\n",
      "                               [01]: Intel64 Family 6 Model 141 Stepping 1 GenuineIntel ~2588 Mhz\n",
      "BIOS Version:                  Insyde Corp. V1.20, 06.07.2023\n",
      "Windows Directory:             C:\\WINDOWS\n",
      "System Directory:              C:\\WINDOWS\\system32\n",
      "Boot Device:                   \\Device\\HarddiskVolume1\n",
      "System Locale:                 ru;Russian\n",
      "Input Locale:                  ru;Russian\n",
      "Time Zone:                     (UTC+05:00) Ekaterinburg\n",
      "Total Physical Memory:         24В 339 MB\n",
      "Available Physical Memory:     12В 253 MB\n",
      "Virtual Memory: Max Size:      26В 771 MB\n",
      "Virtual Memory: Available:     11В 611 MB\n",
      "Virtual Memory: In Use:        15В 160 MB\n",
      "Page File Location(s):         C:\\pagefile.sys\n",
      "Domain:                        WORKGROUP\n",
      "Logon Server:                  \\\\ARNAKS-BIG\n",
      "Hotfix(s):                     4 Hotfix(s) Installed.\n",
      "                               [01]: KB5054979\n",
      "                               [02]: KB5053656\n",
      "                               [03]: KB5052915\n",
      "                               [04]: KB5054984\n",
      "Network Card(s):               9 NIC(s) Installed.\n",
      "                               [01]: TAP-Windows Adapter V9\n",
      "                                     Connection Name: Ethernet 3\n",
      "                                     Status:          Media disconnected\n",
      "                               [02]: TAP-Windows Adapter V9\n",
      "                                     Connection Name: Ethernet 4\n",
      "                                     Status:          Media disconnected\n",
      "                               [03]: OpenVPN Data Channel Offload\n",
      "                                     Connection Name: OpenVPN Connect DCO Adapter\n",
      "                                     Status:          Media disconnected\n",
      "                               [04]: TAP-Windows Adapter V9 for OpenVPN Connect\n",
      "                                     Connection Name: РџРѕРґРєР»СЋС‡РµРЅРёРµ РїРѕ Р»РѕРєР°Р»СЊРЅРѕР№ СЃРµС‚Рё\n",
      "                                     Status:          Media disconnected\n",
      "                               [05]: Killer(R) Wi-Fi 6 AX1650i 160MHz Wireless Network Adapter (201NGW)\n",
      "                                     Connection Name: Р‘РµСЃРїСЂРѕРІРѕРґРЅР°СЏ СЃРµС‚СЊ\n",
      "                                     DHCP Enabled:    Yes\n",
      "                                     DHCP Server:     109.195.96.76\n",
      "                                     IP address(es)\n",
      "                                     [01]: 10.13.69.53\n",
      "                                     [02]: fe80::bfeb:a764:e13a:b7da\n",
      "                               [06]: Killer E2600 Gigabit Ethernet Controller\n",
      "                                     Connection Name: Ethernet\n",
      "                                     Status:          Media disconnected\n",
      "                               [07]: Bluetooth Device (Personal Area Network)\n",
      "                                     Connection Name: РЎРµС‚РµРІРѕРµ РїРѕРґРєР»СЋС‡РµРЅРёРµ Bluetooth\n",
      "                                     Status:          Media disconnected\n",
      "                               [08]: VirtualBox Host-Only Ethernet Adapter\n",
      "                                     Connection Name: Ethernet 5\n",
      "                                     DHCP Enabled:    No\n",
      "                                     IP address(es)\n",
      "                                     [01]: 192.168.56.1\n",
      "                                     [02]: fe80::bdba:c550:cc3e:511b\n",
      "                               [09]: Wintun Userspace Tunnel\n",
      "                                     Connection Name: tun0\n",
      "                                     DHCP Enabled:    No\n",
      "                                     IP address(es)\n",
      "                                     [01]: 172.19.0.1\n",
      "                                     [02]: fe80::3e39:1d80:13d:675d\n",
      "Virtualization-based security: Status: Running\n",
      "                               Required Security Properties:\n",
      "                               Available Security Properties:\n",
      "                                     Base Virtualization Support\n",
      "                                     Secure Boot\n",
      "                                     DMA Protection\n",
      "                                     UEFI Code Readonly\n",
      "                                     SMM Security Mitigations 1.0\n",
      "                                     Mode Based Execution Control\n",
      "                                     APIC Virtualization\n",
      "                               Services Configured:\n",
      "                                     Hypervisor enforced Code Integrity\n",
      "                               Services Running:\n",
      "                                     Credential Guard\n",
      "                                     Hypervisor enforced Code Integrity\n",
      "                               App Control for Business policy: Enforced\n",
      "                               App Control for Business user mode policy: Off\n",
      "                               Security Features Enabled:\n",
      "Hyper-V Requirements:          A hypervisor has been detected. Features required for Hyper-V will not be displayed.\n",
      "\n",
      "Host Name:                     ARNAKS-BIG\n",
      "OS Name:                       РњР°Р№РєСЂРѕСЃРѕС„С‚ Windows 11 РљРѕСЂРїРѕСЂР°С‚РёРІРЅР°СЏ\n",
      "OS Version:                    10.0.26100 N/A Build 26100\n",
      "OS Manufacturer:               Microsoft Corporation\n",
      "OS Configuration:              Standalone Workstation\n",
      "OS Build Type:                 Multiprocessor Free\n",
      "Registered Owner:              Р РѕРјР°РЅ\n",
      "Registered Organization:       \n",
      "Product ID:                    00329-10180-00000-AA850\n",
      "Original Install Date:         04.12.2024, 5:13:25\n",
      "System Boot Time:              28.03.2025, 7:00:47\n",
      "System Manufacturer:           Acer\n",
      "System Model:                  Nitro AN515-57\n",
      "System Type:                   x64-based PC\n",
      "Processor(s):                  1 Processor(s) Installed.\n",
      "                               [01]: Intel64 Family 6 Model 141 Stepping 1 GenuineIntel ~2588 Mhz\n",
      "BIOS Version:                  Insyde Corp. V1.20, 06.07.2023\n",
      "Windows Directory:             C:\\WINDOWS\n",
      "System Directory:              C:\\WINDOWS\\system32\n",
      "Boot Device:                   \\Device\\HarddiskVolume1\n",
      "System Locale:                 ru;Russian\n",
      "Input Locale:                  ru;Russian\n",
      "Time Zone:                     (UTC+05:00) Ekaterinburg\n",
      "Total Physical Memory:         24В 339 MB\n",
      "Available Physical Memory:     12В 244 MB\n",
      "Virtual Memory: Max Size:      26В 771 MB\n",
      "Virtual Memory: Available:     11В 603 MB\n",
      "Virtual Memory: In Use:        15В 168 MB\n",
      "Page File Location(s):         C:\\pagefile.sys\n",
      "Domain:                        WORKGROUP\n",
      "Logon Server:                  \\\\ARNAKS-BIG\n",
      "Hotfix(s):                     4 Hotfix(s) Installed.\n",
      "                               [01]: KB5054979\n",
      "                               [02]: KB5053656\n",
      "                               [03]: KB5052915\n",
      "                               [04]: KB5054984\n",
      "Network Card(s):               9 NIC(s) Installed.\n",
      "                               [01]: TAP-Windows Adapter V9\n",
      "                                     Connection Name: Ethernet 3\n",
      "                                     Status:          Media disconnected\n",
      "                               [02]: TAP-Windows Adapter V9\n",
      "                                     Connection Name: Ethernet 4\n",
      "                                     Status:          Media disconnected\n",
      "                               [03]: OpenVPN Data Channel Offload\n",
      "                                     Connection Name: OpenVPN Connect DCO Adapter\n",
      "                                     Status:          Media disconnected\n",
      "                               [04]: TAP-Windows Adapter V9 for OpenVPN Connect\n",
      "                                     Connection Name: РџРѕРґРєР»СЋС‡РµРЅРёРµ РїРѕ Р»РѕРєР°Р»СЊРЅРѕР№ СЃРµС‚Рё\n",
      "                                     Status:          Media disconnected\n",
      "                               [05]: Killer(R) Wi-Fi 6 AX1650i 160MHz Wireless Network Adapter (201NGW)\n",
      "                                     Connection Name: Р‘РµСЃРїСЂРѕРІРѕРґРЅР°СЏ СЃРµС‚СЊ\n",
      "                                     DHCP Enabled:    Yes\n",
      "                                     DHCP Server:     109.195.96.76\n",
      "                                     IP address(es)\n",
      "                                     [01]: 10.13.69.53\n",
      "                                     [02]: fe80::bfeb:a764:e13a:b7da\n",
      "                               [06]: Killer E2600 Gigabit Ethernet Controller\n",
      "                                     Connection Name: Ethernet\n",
      "                                     Status:          Media disconnected\n",
      "                               [07]: Bluetooth Device (Personal Area Network)\n",
      "                                     Connection Name: РЎРµС‚РµРІРѕРµ РїРѕРґРєР»СЋС‡РµРЅРёРµ Bluetooth\n",
      "                                     Status:          Media disconnected\n",
      "                               [08]: VirtualBox Host-Only Ethernet Adapter\n",
      "                                     Connection Name: Ethernet 5\n",
      "                                     DHCP Enabled:    No\n",
      "                                     IP address(es)\n",
      "                                     [01]: 192.168.56.1\n",
      "                                     [02]: fe80::bdba:c550:cc3e:511b\n",
      "                               [09]: Wintun Userspace Tunnel\n",
      "                                     Connection Name: tun0\n",
      "                                     DHCP Enabled:    No\n",
      "                                     IP address(es)\n",
      "                                     [01]: 172.19.0.1\n",
      "                                     [02]: fe80::3e39:1d80:13d:675d\n",
      "Virtualization-based security: Status: Running\n",
      "                               Required Security Properties:\n",
      "                               Available Security Properties:\n",
      "                                     Base Virtualization Support\n",
      "                                     Secure Boot\n",
      "                                     DMA Protection\n",
      "                                     UEFI Code Readonly\n",
      "                                     SMM Security Mitigations 1.0\n",
      "                                     Mode Based Execution Control\n",
      "                                     APIC Virtualization\n",
      "                               Services Configured:\n",
      "                                     Hypervisor enforced Code Integrity\n",
      "                               Services Running:\n",
      "                                     Credential Guard\n",
      "                                     Hypervisor enforced Code Integrity\n",
      "                               App Control for Business policy: Enforced\n",
      "                               App Control for Business user mode policy: Off\n",
      "                               Security Features Enabled:\n",
      "Hyper-V Requirements:          A hypervisor has been detected. Features required for Hyper-V will not be displayed.\n"
     ]
    }
   ],
   "source": [
    "!chcp 65001 > nul & systeminfo\n",
    "!systeminfo"
   ]
  },
  {
   "cell_type": "code",
   "execution_count": 3,
   "id": "88b15ceb-734d-4a67-99d8-328275b22df5",
   "metadata": {},
   "outputs": [],
   "source": [
    "#Пример получения списка установленный пакетов в системе и запись в файл list_libs.yml\n",
    "!conda list > list_libs.yml"
   ]
  },
  {
   "cell_type": "code",
   "execution_count": 5,
   "id": "7c5c23c6-2c10-411a-990c-1e8909eab588",
   "metadata": {},
   "outputs": [
    {
     "name": "stdout",
     "output_type": "stream",
     "text": [
      "nbclient                  0.10.2                   pypi_0    pypi\n",
      "nbconvert                 7.16.6                   pypi_0    pypi\n",
      "nbformat                  5.10.4                   pypi_0    pypi\n",
      "nest-asyncio              1.6.0                    pypi_0    pypi\n",
      "networkx                  3.4.2                    pypi_0    pypi\n",
      "notebook-shim             0.2.4                    pypi_0    pypi\n",
      "numpy                     2.2.4                    pypi_0    pypi\n"
     ]
    }
   ],
   "source": [
    "#Вывод списка библиотек из файла начинающихся на \"n\"\n",
    "!findstr \"^n\" list_libs.yml"
   ]
  },
  {
   "cell_type": "markdown",
   "id": "137a8323-e68c-4514-87ce-46a3b9fa7f1e",
   "metadata": {},
   "source": [
    "## Основные команды pip"
   ]
  },
  {
   "cell_type": "raw",
   "id": "e55a5c34-4fd7-49e3-b682-aa90304f2bc8",
   "metadata": {},
   "source": [
    "1.Выводим список установленный пакетов"
   ]
  },
  {
   "cell_type": "code",
   "execution_count": 6,
   "id": "c64d7fae-9ec6-4c3a-9f48-cea782d38c09",
   "metadata": {
    "scrolled": true
   },
   "outputs": [
    {
     "name": "stdout",
     "output_type": "stream",
     "text": [
      "Package                   Version\n",
      "------------------------- --------------\n",
      "anyio                     4.9.0\n",
      "argon2-cffi               23.1.0\n",
      "argon2-cffi-bindings      21.2.0\n",
      "arrow                     1.3.0\n",
      "asttokens                 3.0.0\n",
      "async-lru                 2.0.5\n",
      "attrs                     25.3.0\n",
      "babel                     2.17.0\n",
      "beautifulsoup4            4.13.3\n",
      "bleach                    6.2.0\n",
      "certifi                   2025.1.31\n",
      "cffi                      1.17.1\n",
      "charset-normalizer        3.4.1\n",
      "colorama                  0.4.6\n",
      "comm                      0.2.2\n",
      "contourpy                 1.3.1\n",
      "cycler                    0.12.1\n",
      "debugpy                   1.8.13\n",
      "decorator                 5.2.1\n",
      "defusedxml                0.7.1\n",
      "executing                 2.2.0\n",
      "fastjsonschema            2.21.1\n",
      "filelock                  3.18.0\n",
      "fonttools                 4.56.0\n",
      "fqdn                      1.5.1\n",
      "fsspec                    2025.3.0\n",
      "h11                       0.14.0\n",
      "httpcore                  1.0.7\n",
      "httpx                     0.28.1\n",
      "idna                      3.10\n",
      "ipykernel                 6.29.5\n",
      "ipython                   9.0.2\n",
      "ipython_pygments_lexers   1.1.1\n",
      "isoduration               20.11.0\n",
      "jedi                      0.19.2\n",
      "Jinja2                    3.1.6\n",
      "joblib                    1.4.2\n",
      "json5                     0.10.0\n",
      "jsonpointer               3.0.0\n",
      "jsonschema                4.23.0\n",
      "jsonschema-specifications 2024.10.1\n",
      "jupyter_client            8.6.3\n",
      "jupyter_core              5.7.2\n",
      "jupyter-events            0.12.0\n",
      "jupyter-lsp               2.2.5\n",
      "jupyter_server            2.15.0\n",
      "jupyter_server_terminals  0.5.3\n",
      "jupyterlab                4.3.6\n",
      "jupyterlab_pygments       0.3.0\n",
      "jupyterlab_server         2.27.3\n",
      "kiwisolver                1.4.8\n",
      "MarkupSafe                3.0.2\n",
      "matplotlib                3.10.1\n",
      "matplotlib-inline         0.1.7\n",
      "mistune                   3.1.3\n",
      "mpmath                    1.3.0\n",
      "nbclient                  0.10.2\n",
      "nbconvert                 7.16.6\n",
      "nbformat                  5.10.4\n",
      "nest-asyncio              1.6.0\n",
      "networkx                  3.4.2\n",
      "notebook_shim             0.2.4\n",
      "numpy                     2.2.4\n",
      "overrides                 7.7.0\n",
      "packaging                 24.2\n",
      "pandas                    2.2.3\n",
      "pandocfilters             1.5.1\n",
      "parso                     0.8.4\n",
      "pillow                    11.1.0\n",
      "pip                       25.0\n",
      "platformdirs              4.3.7\n",
      "prometheus_client         0.21.1\n",
      "prompt_toolkit            3.0.50\n",
      "psutil                    7.0.0\n",
      "pure_eval                 0.2.3\n",
      "pycparser                 2.22\n",
      "Pygments                  2.19.1\n",
      "pyparsing                 3.2.3\n",
      "python-dateutil           2.9.0.post0\n",
      "python-json-logger        3.3.0\n",
      "pytz                      2025.2\n",
      "pywin32                   310\n",
      "pywinpty                  2.0.15\n",
      "PyYAML                    6.0.2\n",
      "pyzmq                     26.3.0\n",
      "referencing               0.36.2\n",
      "requests                  2.32.3\n",
      "rfc3339-validator         0.1.4\n",
      "rfc3986-validator         0.1.1\n",
      "rpds-py                   0.24.0\n",
      "scikit-learn              1.6.1\n",
      "scipy                     1.15.2\n",
      "Send2Trash                1.8.3\n",
      "setuptools                75.8.0\n",
      "six                       1.17.0\n",
      "sniffio                   1.3.1\n",
      "soupsieve                 2.6\n",
      "stack-data                0.6.3\n",
      "sympy                     1.13.1\n",
      "terminado                 0.18.1\n",
      "threadpoolctl             3.6.0\n",
      "tinycss2                  1.4.0\n",
      "torch                     2.6.0\n",
      "torchaudio                2.6.0\n",
      "torchvision               0.21.0\n",
      "tornado                   6.4.2\n",
      "traitlets                 5.14.3\n",
      "types-python-dateutil     2.9.0.20241206\n",
      "typing_extensions         4.13.0\n",
      "tzdata                    2025.2\n",
      "uri-template              1.3.0\n",
      "urllib3                   2.3.0\n",
      "wcwidth                   0.2.13\n",
      "webcolors                 24.11.1\n",
      "webencodings              0.5.1\n",
      "websocket-client          1.8.0\n",
      "wheel                     0.45.1\n"
     ]
    }
   ],
   "source": [
    "!pip list"
   ]
  },
  {
   "cell_type": "raw",
   "id": "fc2256fa-b87e-45c3-bbc4-70f1e50850a4",
   "metadata": {},
   "source": [
    "2. Информация о выбранном пакете"
   ]
  },
  {
   "cell_type": "code",
   "execution_count": 7,
   "id": "13b9eac2-a68b-4b17-84ff-41c8adc7a553",
   "metadata": {
    "scrolled": true
   },
   "outputs": [
    {
     "name": "stdout",
     "output_type": "stream",
     "text": [
      "Name: pandas\n",
      "Version: 2.2.3\n",
      "Summary: Powerful data structures for data analysis, time series, and statistics\n",
      "Home-page: https://pandas.pydata.org\n",
      "Author: \n",
      "Author-email: The Pandas Development Team <pandas-dev@python.org>\n",
      "License: BSD 3-Clause License\n",
      "\n",
      "Copyright (c) 2008-2011, AQR Capital Management, LLC, Lambda Foundry, Inc. and PyData Development Team\n",
      "All rights reserved.\n",
      "\n",
      "Copyright (c) 2011-2023, Open source contributors.\n",
      "\n",
      "Redistribution and use in source and binary forms, with or without\n",
      "modification, are permitted provided that the following conditions are met:\n",
      "\n",
      "* Redistributions of source code must retain the above copyright notice, this\n",
      "  list of conditions and the following disclaimer.\n",
      "\n",
      "* Redistributions in binary form must reproduce the above copyright notice,\n",
      "  this list of conditions and the following disclaimer in the documentation\n",
      "  and/or other materials provided with the distribution.\n",
      "\n",
      "* Neither the name of the copyright holder nor the names of its\n",
      "  contributors may be used to endorse or promote products derived from\n",
      "  this software without specific prior written permission.\n",
      "\n",
      "THIS SOFTWARE IS PROVIDED BY THE COPYRIGHT HOLDERS AND CONTRIBUTORS \"AS IS\"\n",
      "AND ANY EXPRESS OR IMPLIED WARRANTIES, INCLUDING, BUT NOT LIMITED TO, THE\n",
      "IMPLIED WARRANTIES OF MERCHANTABILITY AND FITNESS FOR A PARTICULAR PURPOSE ARE\n",
      "DISCLAIMED. IN NO EVENT SHALL THE COPYRIGHT HOLDER OR CONTRIBUTORS BE LIABLE\n",
      "FOR ANY DIRECT, INDIRECT, INCIDENTAL, SPECIAL, EXEMPLARY, OR CONSEQUENTIAL\n",
      "DAMAGES (INCLUDING, BUT NOT LIMITED TO, PROCUREMENT OF SUBSTITUTE GOODS OR\n",
      "SERVICES; LOSS OF USE, DATA, OR PROFITS; OR BUSINESS INTERRUPTION) HOWEVER\n",
      "CAUSED AND ON ANY THEORY OF LIABILITY, WHETHER IN CONTRACT, STRICT LIABILITY,\n",
      "OR TORT (INCLUDING NEGLIGENCE OR OTHERWISE) ARISING IN ANY WAY OUT OF THE USE\n",
      "OF THIS SOFTWARE, EVEN IF ADVISED OF THE POSSIBILITY OF SUCH DAMAGE.\n",
      "Location: C:\\anaconda3\\envs\\MLOPS\\Lib\\site-packages\n",
      "Requires: numpy, python-dateutil, pytz, tzdata\n",
      "Required-by: \n"
     ]
    }
   ],
   "source": [
    "!pip show pandas"
   ]
  },
  {
   "cell_type": "raw",
   "id": "dc61cebd-3950-45f1-a9e6-e342a04ebad3",
   "metadata": {},
   "source": [
    "3. Информация о процессоре"
   ]
  },
  {
   "cell_type": "code",
   "execution_count": 9,
   "id": "76b1b821-0ed0-416e-a0e1-a3026f9f86f2",
   "metadata": {},
   "outputs": [
    {
     "name": "stdout",
     "output_type": "stream",
     "text": [
      "Name                                            NumberOfCores  NumberOfLogicalProcessors  \n",
      "\n",
      "11th Gen Intel(R) Core(TM) i5-11400H @ 2.70GHz  6              12                         \n",
      "\n",
      "\n",
      "\n"
     ]
    }
   ],
   "source": [
    "!wmic cpu get name, numberofcores, numberoflogicalprocessors"
   ]
  },
  {
   "cell_type": "markdown",
   "id": "9ba93bfd-6a28-40cb-9065-bc10108a3ec5",
   "metadata": {},
   "source": [
    "### Библиотека Pytorch\n",
    "PyTorch — это библиотека для машинного обучения, предназначенная для построения архитектур нейронных сетей и обучения."
   ]
  },
  {
   "cell_type": "code",
   "execution_count": 10,
   "id": "ed45887a-4d8c-4015-8e2d-ec13bcdb3fb0",
   "metadata": {},
   "outputs": [],
   "source": [
    "import torch"
   ]
  },
  {
   "cell_type": "code",
   "execution_count": 11,
   "id": "9e962e44-d2f3-4a03-a0d1-ed0d00f7ef85",
   "metadata": {},
   "outputs": [
    {
     "data": {
      "text/plain": [
       "tensor([4., 0., 4.])"
      ]
     },
     "execution_count": 11,
     "metadata": {},
     "output_type": "execute_result"
    }
   ],
   "source": [
    "a = torch.tensor([1.,2,3])\n",
    "b = torch.tensor([3,-2,1])\n",
    "c = a + b\n",
    "c"
   ]
  },
  {
   "cell_type": "code",
   "execution_count": 12,
   "id": "e4ca1d9b-fce2-4d91-9638-9581f6a5b310",
   "metadata": {},
   "outputs": [
    {
     "data": {
      "text/plain": [
       "False"
      ]
     },
     "execution_count": 12,
     "metadata": {},
     "output_type": "execute_result"
    }
   ],
   "source": [
    "torch.cuda.is_available()"
   ]
  },
  {
   "cell_type": "code",
   "execution_count": 13,
   "id": "a0049f6f-26a9-4002-a209-c1ccda0b3234",
   "metadata": {},
   "outputs": [
    {
     "name": "stdout",
     "output_type": "stream",
     "text": [
      "tensor([1.3333, 2.6667, 4.0000])\n"
     ]
    }
   ],
   "source": [
    "a = torch.tensor([1.,2,3], requires_grad=True)\n",
    "b = a + 2\n",
    "c = a * a * 2\n",
    "c = c.mean()\n",
    "c.backward()  # Вычисляет градиенты\n",
    "print(a.grad)"
   ]
  },
  {
   "cell_type": "markdown",
   "id": "860c1d62-cfa4-46ed-9e51-0b7feef3c2c1",
   "metadata": {},
   "source": [
    "### Пример обучения нейронной сети для изображений"
   ]
  },
  {
   "cell_type": "code",
   "execution_count": 14,
   "id": "4a2558e2-a5e2-4050-ae34-fbeacdb0beed",
   "metadata": {},
   "outputs": [],
   "source": [
    "import torch.nn as nn\n",
    "import torch.nn.functional as F\n",
    "from torch.utils.data import Dataset, DataLoader\n",
    "from torchvision import transforms\n",
    "from torchvision.datasets import MNIST\n",
    "import matplotlib.pyplot as plt\n",
    "\n",
    "#Пример построения графа нейросети с полносвязнными слоями\n",
    "class Net(nn.Module):\n",
    "    def __init__(self):\n",
    "        super(Net, self).__init__()\n",
    "        self.fc1 = nn.Linear(16 * 5 * 5, 120)\n",
    "        self.fc2 = nn.Linear(120, 84)\n",
    "        self.fc3 = nn.Linear(84, 10)\n",
    "\n",
    "    def forward(self, x):\n",
    "        x = F.relu(self.fc1(x))\n",
    "        x = F.relu(self.fc2(x))\n",
    "        x = self.fc3(x)\n",
    "        return x\n",
    "\n",
    "model = Net()"
   ]
  },
  {
   "cell_type": "code",
   "execution_count": 16,
   "id": "41e58d1f-442e-423d-be39-1770b0747bc1",
   "metadata": {},
   "outputs": [
    {
     "name": "stdout",
     "output_type": "stream",
     "text": [
      "torch.Size([1, 10])\n"
     ]
    }
   ],
   "source": [
    "import torch\n",
    "import torch.nn as nn\n",
    "import torch.nn.functional as F\n",
    "from tqdm import tqdm\n",
    "\n",
    "class PatchEmbedding(nn.Module):\n",
    "    def __init__(self, img_size, patch_size, in_channels, embed_dim):\n",
    "        super(PatchEmbedding, self).__init__()\n",
    "        self.patch_size = patch_size\n",
    "        self.proj = nn.Conv2d(in_channels, embed_dim, kernel_size=patch_size, stride=patch_size)\n",
    "\n",
    "    def forward(self, x):\n",
    "        x = self.proj(x)  # (B, C, H, W) -> (B, embed_dim, H/patch_size, W/patch_size)\n",
    "        x = x.flatten(2)  # (B, embed_dim, H/patch_size * W/patch_size)\n",
    "        x = x.transpose(1, 2)  # (B, H/patch_size * W/patch_size, embed_dim)\n",
    "        return x\n",
    "\n",
    "class MultiHeadAttention(nn.Module):\n",
    "    def __init__(self, embed_dim, num_heads):\n",
    "        super(MultiHeadAttention, self).__init__()\n",
    "        assert embed_dim % num_heads == 0\n",
    "\n",
    "        self.embed_dim = embed_dim\n",
    "        self.num_heads = num_heads\n",
    "        self.head_dim = embed_dim // num_heads\n",
    "\n",
    "        self.query_linear = nn.Linear(embed_dim, embed_dim)\n",
    "        self.key_linear = nn.Linear(embed_dim, embed_dim)\n",
    "        self.value_linear = nn.Linear(embed_dim, embed_dim)\n",
    "        self.out_linear = nn.Linear(embed_dim, embed_dim)\n",
    "\n",
    "    def attention(self, query, key, value, mask=None):\n",
    "        scores = torch.matmul(query, key.transpose(-2, -1)) / torch.sqrt(torch.tensor(self.head_dim, dtype=torch.float32))\n",
    "        if mask is not None:\n",
    "            scores = scores.masked_fill(mask == 0, -1e9)\n",
    "        attn = F.softmax(scores, dim=-1)\n",
    "        context = torch.matmul(attn, value)\n",
    "        return context, attn\n",
    "\n",
    "    def forward(self, x):\n",
    "        batch_size = x.size(0)\n",
    "\n",
    "        query = self.query_linear(x).view(batch_size, -1, self.num_heads, self.head_dim).transpose(1, 2)\n",
    "        key = self.key_linear(x).view(batch_size, -1, self.num_heads, self.head_dim).transpose(1, 2)\n",
    "        value = self.value_linear(x).view(batch_size, -1, self.num_heads, self.head_dim).transpose(1, 2)\n",
    "\n",
    "        context, _ = self.attention(query, key, value)\n",
    "        context = context.transpose(1, 2).contiguous().view(batch_size, -1, self.embed_dim)\n",
    "        return self.out_linear(context)\n",
    "\n",
    "class FeedForward(nn.Module):\n",
    "    def __init__(self, embed_dim, hidden_dim, dropout=0.1):\n",
    "        super(FeedForward, self).__init__()\n",
    "        self.linear1 = nn.Linear(embed_dim, hidden_dim)\n",
    "        self.dropout = nn.Dropout(dropout)\n",
    "        self.linear2 = nn.Linear(hidden_dim, embed_dim)\n",
    "\n",
    "    def forward(self, x):\n",
    "        return self.linear2(self.dropout(F.relu(self.linear1(x))))\n",
    "\n",
    "class TransformerLayer(nn.Module):\n",
    "    def __init__(self, embed_dim, num_heads, hidden_dim, dropout=0.1):\n",
    "        super(TransformerLayer, self).__init__()\n",
    "        self.attn = MultiHeadAttention(embed_dim, num_heads)\n",
    "        self.ff = FeedForward(embed_dim, hidden_dim, dropout)\n",
    "        self.norm1 = nn.LayerNorm(embed_dim)\n",
    "        self.norm2 = nn.LayerNorm(embed_dim)\n",
    "        self.dropout = nn.Dropout(dropout)\n",
    "\n",
    "    def forward(self, x):\n",
    "        attn_output = self.attn(x)\n",
    "        out1 = self.norm1(x + self.dropout(attn_output))\n",
    "        ff_output = self.ff(out1)\n",
    "        out2 = self.norm2(out1 + self.dropout(ff_output))\n",
    "        return out2\n",
    "\n",
    "class VisionTransformer(nn.Module):\n",
    "    def __init__(self, img_size, patch_size, in_channels, embed_dim, num_heads, hidden_dim, num_layers, num_classes, dropout=0.1):\n",
    "        super(VisionTransformer, self).__init__()\n",
    "        self.patch_embed = PatchEmbedding(img_size, patch_size, in_channels, embed_dim)\n",
    "        self.layers = nn.ModuleList([\n",
    "            TransformerLayer(embed_dim, num_heads, hidden_dim, dropout)\n",
    "            for _ in range(num_layers)\n",
    "        ])\n",
    "        self.linear = nn.Linear(embed_dim, num_classes)\n",
    "\n",
    "    def forward(self, x):\n",
    "        x = self.patch_embed(x)\n",
    "        for layer in self.layers:\n",
    "            x = layer(x)\n",
    "        x = x.mean(dim=1)  # Усреднение по последовательности\n",
    "        return self.linear(x)\n",
    "\n",
    "# Пример использования\n",
    "img_size = 28\n",
    "patch_size = 8\n",
    "in_channels = 1  # Для черно-белых изображений\n",
    "embed_dim = 14\n",
    "num_heads = 2\n",
    "hidden_dim = 6\n",
    "num_layers = 1\n",
    "num_classes = 10  # Например, для классификации цифр от 0 до 9\n",
    "dropout = 0.1\n",
    "\n",
    "model = VisionTransformer(img_size, patch_size, in_channels, embed_dim, num_heads, hidden_dim, num_layers, num_classes, dropout)\n",
    "\n",
    "# Пример входных данных\n",
    "x = torch.rand(1, in_channels, img_size, img_size)  # Батч из 32 изображений размером 28x28\n",
    "\n",
    "output = model(x)\n",
    "print(output.shape)  # Выходной тензор"
   ]
  },
  {
   "cell_type": "code",
   "execution_count": 17,
   "id": "1f19479f-4bba-438e-9b3a-132b8cdb1171",
   "metadata": {},
   "outputs": [
    {
     "name": "stderr",
     "output_type": "stream",
     "text": [
      "100.0%\n",
      "100.0%\n",
      "100.0%\n",
      "100.0%\n"
     ]
    }
   ],
   "source": [
    "transform=transforms.Compose([\n",
    "    transforms.ToTensor(),\n",
    "    transforms.Normalize((0.1307,), (0.3081,))\n",
    "    ])\n",
    "dataset1 = MNIST('../data', train=True, download=True,\n",
    "                   transform=transform)\n",
    "dataset2 = MNIST('../data', train=False,\n",
    "                   transform=transform)\n",
    "train_loader = torch.utils.data.DataLoader(dataset1,)\n",
    "test_loader = torch.utils.data.DataLoader(dataset2)"
   ]
  },
  {
   "cell_type": "code",
   "execution_count": 18,
   "id": "ae7231cb-3790-4a2f-980b-b65c801697a9",
   "metadata": {},
   "outputs": [
    {
     "name": "stdout",
     "output_type": "stream",
     "text": [
      "torch.Size([1, 1, 28, 28]) torch.Size([1])\n"
     ]
    }
   ],
   "source": [
    "inputs, labels = next(iter(train_loader)) \n",
    "print(inputs.shape, labels.shape)"
   ]
  },
  {
   "cell_type": "code",
   "execution_count": 19,
   "id": "baa92c47-7567-4c36-b321-21b7bf26351a",
   "metadata": {},
   "outputs": [],
   "source": [
    "criterion = nn.CrossEntropyLoss()\n",
    "optimizer = torch.optim.SGD(model.parameters(), lr=0.005, momentum=0.9)"
   ]
  },
  {
   "cell_type": "code",
   "execution_count": 20,
   "id": "f26ac36f-eae8-4feb-97fd-f302f6d06bb8",
   "metadata": {},
   "outputs": [
    {
     "name": "stderr",
     "output_type": "stream",
     "text": [
      "  7%|█████▌                                                                             | 1/15 [00:44<10:18, 44.14s/it]"
     ]
    },
    {
     "name": "stdout",
     "output_type": "stream",
     "text": [
      "Accuracy: 34%)\n",
      "\n"
     ]
    },
    {
     "name": "stderr",
     "output_type": "stream",
     "text": [
      " 13%|███████████                                                                        | 2/15 [01:29<09:46, 45.09s/it]"
     ]
    },
    {
     "name": "stdout",
     "output_type": "stream",
     "text": [
      "Accuracy: 37%)\n",
      "\n"
     ]
    },
    {
     "name": "stderr",
     "output_type": "stream",
     "text": [
      " 20%|████████████████▌                                                                  | 3/15 [02:15<09:04, 45.40s/it]"
     ]
    },
    {
     "name": "stdout",
     "output_type": "stream",
     "text": [
      "Accuracy: 41%)\n",
      "\n"
     ]
    },
    {
     "name": "stderr",
     "output_type": "stream",
     "text": [
      " 27%|██████████████████████▏                                                            | 4/15 [03:01<08:23, 45.73s/it]"
     ]
    },
    {
     "name": "stdout",
     "output_type": "stream",
     "text": [
      "Accuracy: 41%)\n",
      "\n"
     ]
    },
    {
     "name": "stderr",
     "output_type": "stream",
     "text": [
      " 33%|███████████████████████████▋                                                       | 5/15 [03:47<07:35, 45.56s/it]"
     ]
    },
    {
     "name": "stdout",
     "output_type": "stream",
     "text": [
      "Accuracy: 43%)\n",
      "\n"
     ]
    },
    {
     "name": "stderr",
     "output_type": "stream",
     "text": [
      " 40%|█████████████████████████████████▏                                                 | 6/15 [04:32<06:48, 45.35s/it]"
     ]
    },
    {
     "name": "stdout",
     "output_type": "stream",
     "text": [
      "Accuracy: 44%)\n",
      "\n"
     ]
    },
    {
     "name": "stderr",
     "output_type": "stream",
     "text": [
      " 47%|██████████████████████████████████████▋                                            | 7/15 [05:16<06:01, 45.17s/it]"
     ]
    },
    {
     "name": "stdout",
     "output_type": "stream",
     "text": [
      "Accuracy: 46%)\n",
      "\n"
     ]
    },
    {
     "name": "stderr",
     "output_type": "stream",
     "text": [
      " 53%|████████████████████████████████████████████▎                                      | 8/15 [06:01<05:15, 45.01s/it]"
     ]
    },
    {
     "name": "stdout",
     "output_type": "stream",
     "text": [
      "Accuracy: 48%)\n",
      "\n"
     ]
    },
    {
     "name": "stderr",
     "output_type": "stream",
     "text": [
      " 60%|█████████████████████████████████████████████████▊                                 | 9/15 [06:47<04:31, 45.22s/it]"
     ]
    },
    {
     "name": "stdout",
     "output_type": "stream",
     "text": [
      "Accuracy: 48%)\n",
      "\n"
     ]
    },
    {
     "name": "stderr",
     "output_type": "stream",
     "text": [
      " 67%|██████████████████████████████████████████████████████▋                           | 10/15 [07:33<03:48, 45.61s/it]"
     ]
    },
    {
     "name": "stdout",
     "output_type": "stream",
     "text": [
      "Accuracy: 49%)\n",
      "\n"
     ]
    },
    {
     "name": "stderr",
     "output_type": "stream",
     "text": [
      " 73%|████████████████████████████████████████████████████████████▏                     | 11/15 [08:16<02:59, 44.85s/it]"
     ]
    },
    {
     "name": "stdout",
     "output_type": "stream",
     "text": [
      "Accuracy: 47%)\n",
      "\n"
     ]
    },
    {
     "name": "stderr",
     "output_type": "stream",
     "text": [
      " 80%|█████████████████████████████████████████████████████████████████▌                | 12/15 [09:01<02:14, 44.70s/it]"
     ]
    },
    {
     "name": "stdout",
     "output_type": "stream",
     "text": [
      "Accuracy: 48%)\n",
      "\n"
     ]
    },
    {
     "name": "stderr",
     "output_type": "stream",
     "text": [
      " 87%|███████████████████████████████████████████████████████████████████████           | 13/15 [09:43<01:27, 43.99s/it]"
     ]
    },
    {
     "name": "stdout",
     "output_type": "stream",
     "text": [
      "Accuracy: 37%)\n",
      "\n"
     ]
    },
    {
     "name": "stderr",
     "output_type": "stream",
     "text": [
      " 93%|████████████████████████████████████████████████████████████████████████████▌     | 14/15 [10:28<00:44, 44.15s/it]"
     ]
    },
    {
     "name": "stdout",
     "output_type": "stream",
     "text": [
      "Accuracy: 36%)\n",
      "\n"
     ]
    },
    {
     "name": "stderr",
     "output_type": "stream",
     "text": [
      "100%|██████████████████████████████████████████████████████████████████████████████████| 15/15 [11:15<00:00, 45.03s/it]"
     ]
    },
    {
     "name": "stdout",
     "output_type": "stream",
     "text": [
      "Accuracy: 39%)\n",
      "\n"
     ]
    },
    {
     "name": "stderr",
     "output_type": "stream",
     "text": [
      "\n"
     ]
    }
   ],
   "source": [
    "for epoch in tqdm(range(15)):  # Количество эпох\n",
    "    correct = 0\n",
    "    for data in test_loader:  # Итерация по данным\n",
    "        inputs, labels = data\n",
    "        optimizer.zero_grad()  # Обнуление градиентов\n",
    "        outputs = model(inputs)  # Прямой проход\n",
    "        loss = criterion(outputs, labels)  # Вычисление потерь\n",
    "        \n",
    "        loss.backward()  # Обратный проход\n",
    "        optimizer.step()  # Обновление весов\n",
    "        pred = outputs.argmax(dim=1, keepdim=True)\n",
    "        correct += pred.eq(labels).item()\n",
    "    print('Accuracy: {:.0f}%)\\n'.format(correct/len(test_loader)*100))"
   ]
  },
  {
   "cell_type": "code",
   "execution_count": 21,
   "id": "dc23c873-b711-4aac-886c-bf972989cf4c",
   "metadata": {},
   "outputs": [
    {
     "data": {
      "text/plain": [
       "(tensor(1), 6)"
      ]
     },
     "execution_count": 21,
     "metadata": {},
     "output_type": "execute_result"
    }
   ],
   "source": [
    "number = 100\n",
    "test_img, test_label = test_loader.dataset[number]\n",
    "test_img = test_img.unsqueeze(0)\n",
    "torch.argmax(model(test_img)), test_label"
   ]
  },
  {
   "cell_type": "code",
   "execution_count": 22,
   "id": "56cc867b-e9c2-4b3a-935f-21da3ed811dd",
   "metadata": {},
   "outputs": [
    {
     "name": "stdout",
     "output_type": "stream",
     "text": [
      "Pred = 7, Label = 7\n",
      "Pred = 2, Label = 2\n",
      "Pred = 1, Label = 1\n",
      "Pred = 0, Label = 0\n",
      "Pred = 4, Label = 4\n",
      "Pred = 1, Label = 1\n",
      "Pred = 7, Label = 4\n",
      "Pred = 6, Label = 9\n",
      "Pred = 0, Label = 5\n",
      "Pred = 9, Label = 9\n",
      "Pred = 0, Label = 0\n",
      "Pred = 7, Label = 6\n",
      "Pred = 9, Label = 9\n",
      "Pred = 2, Label = 0\n",
      "Pred = 1, Label = 1\n"
     ]
    }
   ],
   "source": [
    "#посмотрим как модель предсказывает цифры\n",
    "for number in range(15):\n",
    "    test_img, test_label = test_loader.dataset[number]\n",
    "    test_img = test_img.unsqueeze(0)\n",
    "    print(f\"Pred = {torch.argmax(model(test_img))}, Label = {test_label}\")"
   ]
  },
  {
   "cell_type": "markdown",
   "id": "01e1fd3e-ec6a-4ae1-8f15-06f27b653ce4",
   "metadata": {},
   "source": [
    "## Визуализация прогнозов модели"
   ]
  },
  {
   "cell_type": "code",
   "execution_count": 25,
   "id": "aa3000e0-33ed-43b2-9aaa-74472c787b8a",
   "metadata": {},
   "outputs": [
    {
     "data": {
      "image/png": "[encoded data removed]",
      "text/plain": [
       "<Figure size 640x480 with 8 Axes>"
      ]
     },
     "metadata": {},
     "output_type": "display_data"
    }
   ],
   "source": [
    "fig, ax = plt.subplots(1,8)\n",
    "for number in range(8):\n",
    "    test_img, test_label = test_loader.dataset[number]\n",
    "    test_img = test_img.unsqueeze(0)\n",
    "    pred = torch.argmax(model(test_img))\n",
    "    ax[number].imshow(test_img[0][0].numpy())\n",
    "    ax[number].set_title(f\"P = {pred}\")"
   ]
  },
  {
   "cell_type": "markdown",
   "id": "89eb827d-8a57-4253-96e2-c5c38e2a7696",
   "metadata": {},
   "source": [
    "### Обучение модели линеной регрессии"
   ]
  },
  {
   "cell_type": "code",
   "execution_count": 26,
   "id": "58569ba0-9c2b-4cbb-8869-073259d1279b",
   "metadata": {},
   "outputs": [],
   "source": [
    "import pandas as pd\n",
    "from sklearn.model_selection import train_test_split\n",
    "from sklearn.preprocessing import StandardScaler, OrdinalEncoder, OneHotEncoder, PowerTransformer\n",
    "from sklearn.pipeline import Pipeline\n",
    "from sklearn.compose import ColumnTransformer # т.н. преобразователь колонок\n",
    "from sklearn.linear_model import SGDRegressor\n",
    "from sklearn.metrics import root_mean_squared_error\n",
    "import numpy as np\n",
    "import matplotlib.pyplot as plt\n",
    "import pickle"
   ]
  },
  {
   "cell_type": "code",
   "execution_count": 27,
   "id": "7c154212-eef8-476e-b637-ae895d1a7107",
   "metadata": {},
   "outputs": [],
   "source": [
    "#В качестве набора данных используется история продаж автомобилей. Для целевой переменной используем Price(euro) - стоимость авто"
   ]
  },
  {
   "cell_type": "code",
   "execution_count": 28,
   "id": "a773f73a-ee2e-4868-acda-f5fd2b3b49c4",
   "metadata": {},
   "outputs": [
    {
     "data": {
      "text/html": [
       "<div>\n",
       "<style scoped>\n",
       "    .dataframe tbody tr th:only-of-type {\n",
       "        vertical-align: middle;\n",
       "    }\n",
       "\n",
       "    .dataframe tbody tr th {\n",
       "        vertical-align: top;\n",
       "    }\n",
       "\n",
       "    .dataframe thead th {\n",
       "        text-align: right;\n",
       "    }\n",
       "</style>\n",
       "<table border=\"1\" class=\"dataframe\">\n",
       "  <thead>\n",
       "    <tr style=\"text-align: right;\">\n",
       "      <th></th>\n",
       "      <th>Make</th>\n",
       "      <th>Model</th>\n",
       "      <th>Year</th>\n",
       "      <th>Style</th>\n",
       "      <th>Distance</th>\n",
       "      <th>Engine_capacity(cm3)</th>\n",
       "      <th>Fuel_type</th>\n",
       "      <th>Transmission</th>\n",
       "      <th>Price(euro)</th>\n",
       "    </tr>\n",
       "  </thead>\n",
       "  <tbody>\n",
       "    <tr>\n",
       "      <th>0</th>\n",
       "      <td>Toyota</td>\n",
       "      <td>Prius</td>\n",
       "      <td>2011</td>\n",
       "      <td>Hatchback</td>\n",
       "      <td>195000.0</td>\n",
       "      <td>1800.0</td>\n",
       "      <td>Hybrid</td>\n",
       "      <td>Automatic</td>\n",
       "      <td>7750.0</td>\n",
       "    </tr>\n",
       "    <tr>\n",
       "      <th>1</th>\n",
       "      <td>Renault</td>\n",
       "      <td>Grand Scenic</td>\n",
       "      <td>2014</td>\n",
       "      <td>Universal</td>\n",
       "      <td>135000.0</td>\n",
       "      <td>1500.0</td>\n",
       "      <td>Diesel</td>\n",
       "      <td>Manual</td>\n",
       "      <td>8550.0</td>\n",
       "    </tr>\n",
       "    <tr>\n",
       "      <th>2</th>\n",
       "      <td>Volkswagen</td>\n",
       "      <td>Golf</td>\n",
       "      <td>1998</td>\n",
       "      <td>Hatchback</td>\n",
       "      <td>1.0</td>\n",
       "      <td>1400.0</td>\n",
       "      <td>Petrol</td>\n",
       "      <td>Manual</td>\n",
       "      <td>2200.0</td>\n",
       "    </tr>\n",
       "    <tr>\n",
       "      <th>3</th>\n",
       "      <td>Renault</td>\n",
       "      <td>Laguna</td>\n",
       "      <td>2012</td>\n",
       "      <td>Universal</td>\n",
       "      <td>110000.0</td>\n",
       "      <td>1500.0</td>\n",
       "      <td>Diesel</td>\n",
       "      <td>Manual</td>\n",
       "      <td>6550.0</td>\n",
       "    </tr>\n",
       "    <tr>\n",
       "      <th>4</th>\n",
       "      <td>Opel</td>\n",
       "      <td>Astra</td>\n",
       "      <td>2006</td>\n",
       "      <td>Universal</td>\n",
       "      <td>200000.0</td>\n",
       "      <td>1600.0</td>\n",
       "      <td>Metan/Propan</td>\n",
       "      <td>Manual</td>\n",
       "      <td>4100.0</td>\n",
       "    </tr>\n",
       "    <tr>\n",
       "      <th>...</th>\n",
       "      <td>...</td>\n",
       "      <td>...</td>\n",
       "      <td>...</td>\n",
       "      <td>...</td>\n",
       "      <td>...</td>\n",
       "      <td>...</td>\n",
       "      <td>...</td>\n",
       "      <td>...</td>\n",
       "      <td>...</td>\n",
       "    </tr>\n",
       "    <tr>\n",
       "      <th>37259</th>\n",
       "      <td>Land Rover</td>\n",
       "      <td>Freelander</td>\n",
       "      <td>2002</td>\n",
       "      <td>Crossover</td>\n",
       "      <td>225000.0</td>\n",
       "      <td>1800.0</td>\n",
       "      <td>Metan/Propan</td>\n",
       "      <td>Manual</td>\n",
       "      <td>4400.0</td>\n",
       "    </tr>\n",
       "    <tr>\n",
       "      <th>37260</th>\n",
       "      <td>Dacia</td>\n",
       "      <td>Logan Mcv</td>\n",
       "      <td>2015</td>\n",
       "      <td>Universal</td>\n",
       "      <td>89000.0</td>\n",
       "      <td>1500.0</td>\n",
       "      <td>Diesel</td>\n",
       "      <td>Manual</td>\n",
       "      <td>7000.0</td>\n",
       "    </tr>\n",
       "    <tr>\n",
       "      <th>37261</th>\n",
       "      <td>Renault</td>\n",
       "      <td>Modus</td>\n",
       "      <td>2009</td>\n",
       "      <td>Hatchback</td>\n",
       "      <td>225.0</td>\n",
       "      <td>1500.0</td>\n",
       "      <td>Diesel</td>\n",
       "      <td>Manual</td>\n",
       "      <td>4500.0</td>\n",
       "    </tr>\n",
       "    <tr>\n",
       "      <th>37262</th>\n",
       "      <td>Mazda</td>\n",
       "      <td>6</td>\n",
       "      <td>2006</td>\n",
       "      <td>Combi</td>\n",
       "      <td>370000.0</td>\n",
       "      <td>2000.0</td>\n",
       "      <td>Diesel</td>\n",
       "      <td>Manual</td>\n",
       "      <td>4000.0</td>\n",
       "    </tr>\n",
       "    <tr>\n",
       "      <th>37263</th>\n",
       "      <td>Renault</td>\n",
       "      <td>Grand Scenic</td>\n",
       "      <td>2006</td>\n",
       "      <td>Minivan</td>\n",
       "      <td>300000.0</td>\n",
       "      <td>1500.0</td>\n",
       "      <td>Diesel</td>\n",
       "      <td>Manual</td>\n",
       "      <td>4000.0</td>\n",
       "    </tr>\n",
       "  </tbody>\n",
       "</table>\n",
       "<p>37264 rows × 9 columns</p>\n",
       "</div>"
      ],
      "text/plain": [
       "             Make         Model  Year      Style  Distance  \\\n",
       "0          Toyota         Prius  2011  Hatchback  195000.0   \n",
       "1         Renault  Grand Scenic  2014  Universal  135000.0   \n",
       "2      Volkswagen          Golf  1998  Hatchback       1.0   \n",
       "3         Renault        Laguna  2012  Universal  110000.0   \n",
       "4            Opel         Astra  2006  Universal  200000.0   \n",
       "...           ...           ...   ...        ...       ...   \n",
       "37259  Land Rover    Freelander  2002  Crossover  225000.0   \n",
       "37260       Dacia     Logan Mcv  2015  Universal   89000.0   \n",
       "37261     Renault         Modus  2009  Hatchback     225.0   \n",
       "37262       Mazda             6  2006      Combi  370000.0   \n",
       "37263     Renault  Grand Scenic  2006    Minivan  300000.0   \n",
       "\n",
       "       Engine_capacity(cm3)     Fuel_type Transmission  Price(euro)  \n",
       "0                    1800.0        Hybrid    Automatic       7750.0  \n",
       "1                    1500.0        Diesel       Manual       8550.0  \n",
       "2                    1400.0        Petrol       Manual       2200.0  \n",
       "3                    1500.0        Diesel       Manual       6550.0  \n",
       "4                    1600.0  Metan/Propan       Manual       4100.0  \n",
       "...                     ...           ...          ...          ...  \n",
       "37259                1800.0  Metan/Propan       Manual       4400.0  \n",
       "37260                1500.0        Diesel       Manual       7000.0  \n",
       "37261                1500.0        Diesel       Manual       4500.0  \n",
       "37262                2000.0        Diesel       Manual       4000.0  \n",
       "37263                1500.0        Diesel       Manual       4000.0  \n",
       "\n",
       "[37264 rows x 9 columns]"
      ]
     },
     "execution_count": 28,
     "metadata": {},
     "output_type": "execute_result"
    }
   ],
   "source": [
    "df = pd.read_csv('https://raw.githubusercontent.com/dayekb/Basic_ML_Alg/main/cars_moldova_no_dup.csv', delimiter = ',')\n",
    "df"
   ]
  },
  {
   "cell_type": "raw",
   "id": "e89af91f-1913-464a-b944-cf89ad94de1a",
   "metadata": {},
   "source": [
    "Предобработка данных для работы обучения модели.\n",
    "\n",
    "Кодирование категориальных признаков и мастабирование входных данных и целевой переменной"
   ]
  },
  {
   "cell_type": "code",
   "execution_count": 29,
   "id": "b9fb77c1-cae2-40e2-a1bf-27eb3a5ef337",
   "metadata": {},
   "outputs": [],
   "source": [
    "\n",
    "cat_columns = ['Make', 'Model', 'Style', 'Fuel_type', 'Transmission']\n",
    "num_columns = ['Year', 'Distance', 'Engine_capacity(cm3)', 'Price(euro)']\n",
    "\n",
    "question_dist = df[(df.Year <2021) & (df.Distance < 1100)]\n",
    "df = df.drop(question_dist.index)\n",
    "# Анализ и очистка данных\n",
    "# анализ гистограмм\n",
    "question_dist = df[(df.Distance > 1e6)]\n",
    "df = df.drop(question_dist.index)\n",
    "\n",
    "# здравый смысл\n",
    "question_engine = df[df[\"Engine_capacity(cm3)\"] < 200]\n",
    "df = df.drop(question_engine.index)\n",
    "\n",
    "# здравый смысл\n",
    "question_engine = df[df[\"Engine_capacity(cm3)\"] > 5000]\n",
    "df = df.drop(question_engine.index)\n",
    "\n",
    "# здравый смысл\n",
    "question_price = df[(df[\"Price(euro)\"] < 101)]\n",
    "df = df.drop(question_price.index)\n",
    "\n",
    "# анализ гистограмм\n",
    "question_price = df[df[\"Price(euro)\"] > 1e5]\n",
    "df = df.drop(question_price.index)\n",
    "\n",
    "#анализ гистограмм\n",
    "question_year = df[df.Year < 1971]\n",
    "df = df.drop(question_year.index)\n",
    "\n",
    "df = df.reset_index(drop=True)  # обновим индексы в датафрейме DF. если бы мы прописали drop = False, то была бы еще одна колонка - старые индексы\n",
    "# Разделение данных на признаки и целевую переменную\n",
    "\n",
    "\n",
    "# Предварительная обработка категориальных данных\n",
    "# Порядковое кодирование. Обучение, трансформация и упаковка в df\n",
    "\n",
    "ordinal = OrdinalEncoder()\n",
    "ordinal.fit(df[cat_columns]);\n",
    "Ordinal_encoded = ordinal.transform(df[cat_columns])\n",
    "df_ordinal = pd.DataFrame(Ordinal_encoded, columns=cat_columns)\n",
    "df[cat_columns] = df_ordinal[cat_columns]"
   ]
  },
  {
   "cell_type": "code",
   "execution_count": 30,
   "id": "70e9cf0a-1ae6-40ca-9ac2-44d439dcc007",
   "metadata": {},
   "outputs": [],
   "source": [
    "X,y = df.drop(columns = ['Price(euro)']), df['Price(euro)']\n",
    "scaler = StandardScaler()\n",
    "power_trans = PowerTransformer()\n",
    "X_scale = scaler.fit_transform(X.values)\n",
    "\n",
    "Y_scale = power_trans.fit_transform(y.values.reshape(-1,1))"
   ]
  },
  {
   "cell_type": "code",
   "execution_count": 31,
   "id": "84997ae9-3872-4040-85b5-f8c64663d8d4",
   "metadata": {},
   "outputs": [],
   "source": [
    "features_names = X.columns.to_list()"
   ]
  },
  {
   "cell_type": "code",
   "execution_count": 32,
   "id": "b336c5b3-02a8-49e5-954a-82e56bc3f433",
   "metadata": {},
   "outputs": [],
   "source": [
    "# разбиваем на тестовую и валидационную выборки\n",
    "X_train, X_val, y_train, y_val = train_test_split(X_scale, Y_scale,\n",
    "                                                  test_size=0.3,\n",
    "                                                  random_state=42)"
   ]
  },
  {
   "cell_type": "markdown",
   "id": "78e3ab42-051f-4cbb-8171-d93332ac1c88",
   "metadata": {},
   "source": [
    "### Обучение линейной регрессии"
   ]
  },
  {
   "cell_type": "code",
   "execution_count": 34,
   "id": "47d79259-0670-4f97-b514-40b5a85807a7",
   "metadata": {},
   "outputs": [
    {
     "name": "stdout",
     "output_type": "stream",
     "text": [
      "R^2 =  0.7093756998404425\n"
     ]
    }
   ],
   "source": [
    "model = SGDRegressor()\n",
    "model.fit(X_train, y_train.ravel())  # Преобразуем y_train\n",
    "r = model.score(X_train, y_train.ravel())  # Преобразуем y_train при расчёте метрики\n",
    "print('R^2 = ', r)"
   ]
  },
  {
   "cell_type": "markdown",
   "id": "b53993e7-4141-4b9a-96c2-9a49632e0dd1",
   "metadata": {},
   "source": [
    "### Оценим ошибку модели"
   ]
  },
  {
   "cell_type": "code",
   "execution_count": 35,
   "id": "72fc0c8e-465e-4b5c-80a6-6d469da72c9b",
   "metadata": {},
   "outputs": [
    {
     "name": "stdout",
     "output_type": "stream",
     "text": [
      "Средняя ошибка прогноза модели = 5824.695820421439\n"
     ]
    }
   ],
   "source": [
    "y_pred = model.predict(X_val)\n",
    "y_price = power_trans.inverse_transform(y_pred.reshape(-1,1))\n",
    "print(\"Средняя ошибка прогноза модели =\", root_mean_squared_error(power_trans.inverse_transform(y_val.reshape(-1,1)), y_price))"
   ]
  },
  {
   "cell_type": "code",
   "execution_count": 36,
   "id": "1ff279a1-b841-47cb-9063-de3e5399d2fd",
   "metadata": {},
   "outputs": [
    {
     "data": {
      "text/plain": [
       "<matplotlib.legend.Legend at 0x18b6b5a1a90>"
      ]
     },
     "execution_count": 36,
     "metadata": {},
     "output_type": "execute_result"
    },
    {
     "data": {
      "image/png": "[encoded data removed]",
      "text/plain": [
       "<Figure size 1800x700 with 2 Axes>"
      ]
     },
     "metadata": {},
     "output_type": "display_data"
    }
   ],
   "source": [
    "y = power_trans.inverse_transform(y_val.reshape(-1,1))\n",
    "fig,ax = plt.subplots(1,2, dpi = 100, figsize=(18,7))\n",
    "ax[0].scatter( y, y_price,)\n",
    "ax[0].set_xlabel('Price')\n",
    "ax[0].set_ylabel('Прогноз модели')\n",
    "\n",
    "ax[1].hist( y,50)\n",
    "ax[1].hist( y_price,50, label='Прогноз')\n",
    "\n",
    "ax[1].set_xlabel('Price')\n",
    "ax[1].set_ylabel('N')\n",
    "ax[1].legend()"
   ]
  },
  {
   "cell_type": "code",
   "execution_count": 37,
   "id": "e929d252-46d5-459f-b02b-c5bef0dd4264",
   "metadata": {},
   "outputs": [],
   "source": [
    "##Сохраним модель\n",
    "with open('model_lr.pkl', 'wb') as file:\n",
    "    pickle.dump(model, file)"
   ]
  },
  {
   "cell_type": "markdown",
   "id": "3d8c549b-d6e4-4eff-9edc-55cdb84f56e8",
   "metadata": {},
   "source": [
    "### Задание. Лабораторная работа №1"
   ]
  },
  {
   "cell_type": "markdown",
   "id": "9454d2ad-1b1e-4fb3-9b70-bedff787f2f3",
   "metadata": {},
   "source": [
    "1.Выполнить установку и настройку необходимых библитек для работы с ML. Выполнить ячейки ноутбука (5 баллов)\n",
    "\n",
    "2.Произвести обучение одной модели (Нейронной сети или линейнойной регрессии) (5 баллов)\n",
    "\n",
    "За обучение модели на своих данных +5 баллов "
   ]
  },
  {
   "cell_type": "code",
   "execution_count": 126,
   "id": "0fd2de7a-5408-4d71-b606-bb632e3f6d70",
   "metadata": {},
   "outputs": [],
   "source": [
    "import pandas as pd\n",
    "from sklearn.model_selection import train_test_split\n",
    "from sklearn.preprocessing import StandardScaler, OrdinalEncoder\n",
    "from sklearn.linear_model import SGDClassifier\n",
    "from sklearn.metrics import accuracy_score\n",
    "import matplotlib.pyplot as plt\n",
    "import pickle"
   ]
  },
  {
   "cell_type": "code",
   "execution_count": 127,
   "id": "988c2e11-e440-4fc4-a905-8132854c7221",
   "metadata": {},
   "outputs": [
    {
     "data": {
      "text/html": [
       "<div>\n",
       "<style scoped>\n",
       "    .dataframe tbody tr th:only-of-type {\n",
       "        vertical-align: middle;\n",
       "    }\n",
       "\n",
       "    .dataframe tbody tr th {\n",
       "        vertical-align: top;\n",
       "    }\n",
       "\n",
       "    .dataframe thead th {\n",
       "        text-align: right;\n",
       "    }\n",
       "</style>\n",
       "<table border=\"1\" class=\"dataframe\">\n",
       "  <thead>\n",
       "    <tr style=\"text-align: right;\">\n",
       "      <th></th>\n",
       "      <th>PassengerId</th>\n",
       "      <th>Survived</th>\n",
       "      <th>Pclass</th>\n",
       "      <th>Name</th>\n",
       "      <th>Sex</th>\n",
       "      <th>Age</th>\n",
       "      <th>SibSp</th>\n",
       "      <th>Parch</th>\n",
       "      <th>Ticket</th>\n",
       "      <th>Fare</th>\n",
       "      <th>Cabin</th>\n",
       "      <th>Embarked</th>\n",
       "    </tr>\n",
       "  </thead>\n",
       "  <tbody>\n",
       "    <tr>\n",
       "      <th>0</th>\n",
       "      <td>1</td>\n",
       "      <td>0</td>\n",
       "      <td>3</td>\n",
       "      <td>Braund, Mr. Owen Harris</td>\n",
       "      <td>male</td>\n",
       "      <td>22.0</td>\n",
       "      <td>1</td>\n",
       "      <td>0</td>\n",
       "      <td>A/5 21171</td>\n",
       "      <td>7.2500</td>\n",
       "      <td>NaN</td>\n",
       "      <td>S</td>\n",
       "    </tr>\n",
       "    <tr>\n",
       "      <th>1</th>\n",
       "      <td>2</td>\n",
       "      <td>1</td>\n",
       "      <td>1</td>\n",
       "      <td>Cumings, Mrs. John Bradley (Florence Briggs Th...</td>\n",
       "      <td>female</td>\n",
       "      <td>38.0</td>\n",
       "      <td>1</td>\n",
       "      <td>0</td>\n",
       "      <td>PC 17599</td>\n",
       "      <td>71.2833</td>\n",
       "      <td>C85</td>\n",
       "      <td>C</td>\n",
       "    </tr>\n",
       "    <tr>\n",
       "      <th>2</th>\n",
       "      <td>3</td>\n",
       "      <td>1</td>\n",
       "      <td>3</td>\n",
       "      <td>Heikkinen, Miss. Laina</td>\n",
       "      <td>female</td>\n",
       "      <td>26.0</td>\n",
       "      <td>0</td>\n",
       "      <td>0</td>\n",
       "      <td>STON/O2. 3101282</td>\n",
       "      <td>7.9250</td>\n",
       "      <td>NaN</td>\n",
       "      <td>S</td>\n",
       "    </tr>\n",
       "    <tr>\n",
       "      <th>3</th>\n",
       "      <td>4</td>\n",
       "      <td>1</td>\n",
       "      <td>1</td>\n",
       "      <td>Futrelle, Mrs. Jacques Heath (Lily May Peel)</td>\n",
       "      <td>female</td>\n",
       "      <td>35.0</td>\n",
       "      <td>1</td>\n",
       "      <td>0</td>\n",
       "      <td>113803</td>\n",
       "      <td>53.1000</td>\n",
       "      <td>C123</td>\n",
       "      <td>S</td>\n",
       "    </tr>\n",
       "    <tr>\n",
       "      <th>4</th>\n",
       "      <td>5</td>\n",
       "      <td>0</td>\n",
       "      <td>3</td>\n",
       "      <td>Allen, Mr. William Henry</td>\n",
       "      <td>male</td>\n",
       "      <td>35.0</td>\n",
       "      <td>0</td>\n",
       "      <td>0</td>\n",
       "      <td>373450</td>\n",
       "      <td>8.0500</td>\n",
       "      <td>NaN</td>\n",
       "      <td>S</td>\n",
       "    </tr>\n",
       "  </tbody>\n",
       "</table>\n",
       "</div>"
      ],
      "text/plain": [
       "   PassengerId  Survived  Pclass  \\\n",
       "0            1         0       3   \n",
       "1            2         1       1   \n",
       "2            3         1       3   \n",
       "3            4         1       1   \n",
       "4            5         0       3   \n",
       "\n",
       "                                                Name     Sex   Age  SibSp  \\\n",
       "0                            Braund, Mr. Owen Harris    male  22.0      1   \n",
       "1  Cumings, Mrs. John Bradley (Florence Briggs Th...  female  38.0      1   \n",
       "2                             Heikkinen, Miss. Laina  female  26.0      0   \n",
       "3       Futrelle, Mrs. Jacques Heath (Lily May Peel)  female  35.0      1   \n",
       "4                           Allen, Mr. William Henry    male  35.0      0   \n",
       "\n",
       "   Parch            Ticket     Fare Cabin Embarked  \n",
       "0      0         A/5 21171   7.2500   NaN        S  \n",
       "1      0          PC 17599  71.2833   C85        C  \n",
       "2      0  STON/O2. 3101282   7.9250   NaN        S  \n",
       "3      0            113803  53.1000  C123        S  \n",
       "4      0            373450   8.0500   NaN        S  "
      ]
     },
     "execution_count": 127,
     "metadata": {},
     "output_type": "execute_result"
    }
   ],
   "source": [
    "df = pd.read_csv('train.csv')\n",
    "df.head()"
   ]
  },
  {
   "cell_type": "markdown",
   "id": "567806cc-600a-4af0-b572-da0d250911b0",
   "metadata": {},
   "source": [
    "Предобработка данных"
   ]
  },
  {
   "cell_type": "code",
   "execution_count": 128,
   "id": "a55b4aac-e064-49c5-ab79-164c206d65b0",
   "metadata": {},
   "outputs": [],
   "source": [
    "cat_columns = ['Name', 'Ticket', 'Cabin', 'Embarked']\n",
    "num_columns = ['PassengerId', 'Survived', 'Pclass', 'Sex', 'Age', 'SibSp', 'Parch', 'Fare']\n",
    "\n",
    "# Анализ и очистка данных\n",
    "df['Sex'] = df['Sex'].map({'male': 1, 'female': 0})\n",
    "\n",
    "# Заполнение пропусков в столбце 'Age' медианой\n",
    "df['Age'] = df['Age'].fillna(df['Age'].median())\n",
    "\n",
    "# Заполнение пропусков в столбце 'Embarked' наиболее частым значением\n",
    "df['Embarked'] = df['Embarked'].fillna(df['Embarked'].mode()[0])\n",
    "\n",
    "# Заполнение пропусков в столбце 'Fare' средним значением\n",
    "df['Fare'] = df['Fare'].fillna(df['Fare'].mean())\n",
    "\n",
    "# Заполнение пропусков в столбце 'Cabin' значением \"Unknown\"\n",
    "df['Cabin'] = df['Cabin'].fillna('Unknown')\n",
    "\n",
    "# Перезапуск индексов в датафрейме\n",
    "df = df.reset_index(drop=True)\n",
    "\n",
    "# Предварительная обработка категориальных данных\n",
    "ordinal = OrdinalEncoder()\n",
    "ordinal.fit(df[cat_columns])\n",
    "Ordinal_encoded = ordinal.transform(df[cat_columns])\n",
    "df_ordinal = pd.DataFrame(Ordinal_encoded, columns=cat_columns)\n",
    "df[cat_columns] = df_ordinal[cat_columns]"
   ]
  },
  {
   "cell_type": "code",
   "execution_count": 129,
   "id": "70679cf7-bac0-4327-b282-2cf928303fa9",
   "metadata": {},
   "outputs": [
    {
     "data": {
      "text/html": [
       "<div>\n",
       "<style scoped>\n",
       "    .dataframe tbody tr th:only-of-type {\n",
       "        vertical-align: middle;\n",
       "    }\n",
       "\n",
       "    .dataframe tbody tr th {\n",
       "        vertical-align: top;\n",
       "    }\n",
       "\n",
       "    .dataframe thead th {\n",
       "        text-align: right;\n",
       "    }\n",
       "</style>\n",
       "<table border=\"1\" class=\"dataframe\">\n",
       "  <thead>\n",
       "    <tr style=\"text-align: right;\">\n",
       "      <th></th>\n",
       "      <th>PassengerId</th>\n",
       "      <th>Survived</th>\n",
       "      <th>Pclass</th>\n",
       "      <th>Name</th>\n",
       "      <th>Sex</th>\n",
       "      <th>Age</th>\n",
       "      <th>SibSp</th>\n",
       "      <th>Parch</th>\n",
       "      <th>Ticket</th>\n",
       "      <th>Fare</th>\n",
       "      <th>Cabin</th>\n",
       "      <th>Embarked</th>\n",
       "    </tr>\n",
       "  </thead>\n",
       "  <tbody>\n",
       "    <tr>\n",
       "      <th>0</th>\n",
       "      <td>1</td>\n",
       "      <td>0</td>\n",
       "      <td>3</td>\n",
       "      <td>108.0</td>\n",
       "      <td>1</td>\n",
       "      <td>22.0</td>\n",
       "      <td>1</td>\n",
       "      <td>0</td>\n",
       "      <td>523.0</td>\n",
       "      <td>7.2500</td>\n",
       "      <td>147.0</td>\n",
       "      <td>2.0</td>\n",
       "    </tr>\n",
       "    <tr>\n",
       "      <th>1</th>\n",
       "      <td>2</td>\n",
       "      <td>1</td>\n",
       "      <td>1</td>\n",
       "      <td>190.0</td>\n",
       "      <td>0</td>\n",
       "      <td>38.0</td>\n",
       "      <td>1</td>\n",
       "      <td>0</td>\n",
       "      <td>596.0</td>\n",
       "      <td>71.2833</td>\n",
       "      <td>81.0</td>\n",
       "      <td>0.0</td>\n",
       "    </tr>\n",
       "    <tr>\n",
       "      <th>2</th>\n",
       "      <td>3</td>\n",
       "      <td>1</td>\n",
       "      <td>3</td>\n",
       "      <td>353.0</td>\n",
       "      <td>0</td>\n",
       "      <td>26.0</td>\n",
       "      <td>0</td>\n",
       "      <td>0</td>\n",
       "      <td>669.0</td>\n",
       "      <td>7.9250</td>\n",
       "      <td>147.0</td>\n",
       "      <td>2.0</td>\n",
       "    </tr>\n",
       "    <tr>\n",
       "      <th>3</th>\n",
       "      <td>4</td>\n",
       "      <td>1</td>\n",
       "      <td>1</td>\n",
       "      <td>272.0</td>\n",
       "      <td>0</td>\n",
       "      <td>35.0</td>\n",
       "      <td>1</td>\n",
       "      <td>0</td>\n",
       "      <td>49.0</td>\n",
       "      <td>53.1000</td>\n",
       "      <td>55.0</td>\n",
       "      <td>2.0</td>\n",
       "    </tr>\n",
       "    <tr>\n",
       "      <th>4</th>\n",
       "      <td>5</td>\n",
       "      <td>0</td>\n",
       "      <td>3</td>\n",
       "      <td>15.0</td>\n",
       "      <td>1</td>\n",
       "      <td>35.0</td>\n",
       "      <td>0</td>\n",
       "      <td>0</td>\n",
       "      <td>472.0</td>\n",
       "      <td>8.0500</td>\n",
       "      <td>147.0</td>\n",
       "      <td>2.0</td>\n",
       "    </tr>\n",
       "  </tbody>\n",
       "</table>\n",
       "</div>"
      ],
      "text/plain": [
       "   PassengerId  Survived  Pclass   Name  Sex   Age  SibSp  Parch  Ticket  \\\n",
       "0            1         0       3  108.0    1  22.0      1      0   523.0   \n",
       "1            2         1       1  190.0    0  38.0      1      0   596.0   \n",
       "2            3         1       3  353.0    0  26.0      0      0   669.0   \n",
       "3            4         1       1  272.0    0  35.0      1      0    49.0   \n",
       "4            5         0       3   15.0    1  35.0      0      0   472.0   \n",
       "\n",
       "      Fare  Cabin  Embarked  \n",
       "0   7.2500  147.0       2.0  \n",
       "1  71.2833   81.0       0.0  \n",
       "2   7.9250  147.0       2.0  \n",
       "3  53.1000   55.0       2.0  \n",
       "4   8.0500  147.0       2.0  "
      ]
     },
     "execution_count": 129,
     "metadata": {},
     "output_type": "execute_result"
    }
   ],
   "source": [
    "df.head()"
   ]
  },
  {
   "cell_type": "code",
   "execution_count": 130,
   "id": "14b2e471-d3a2-4bf9-a7f3-1cbbdcbe8734",
   "metadata": {},
   "outputs": [],
   "source": [
    "# Разделение данных на признаки и целевую переменную\n",
    "X, y = df.drop(columns=['Survived']), df['Survived']\n",
    "\n",
    "# Стандартизация числовых признаков\n",
    "scaler = StandardScaler()\n",
    "X_scaled = scaler.fit_transform(X)\n",
    "\n",
    "# Разделение данных на обучающую и валидационную выборки\n",
    "X_train, X_val, y_train, y_val = train_test_split(X_scaled, y, test_size=0.3, random_state=42)"
   ]
  },
  {
   "cell_type": "markdown",
   "id": "e9a72d30-8331-45f1-8315-4fce6b765b05",
   "metadata": {},
   "source": [
    "### Обучение линейной классификации"
   ]
  },
  {
   "cell_type": "code",
   "execution_count": 132,
   "id": "fecf5368-c539-4a85-9f5a-08f333bbb6ae",
   "metadata": {},
   "outputs": [],
   "source": [
    "# Обучение модели с использованием SGDClassifier\n",
    "model = SGDClassifier(loss='log_loss', random_state=42)  # loss='log_loss' для логистической регрессии\n",
    "model.fit(X_train, y_train)\n",
    "\n",
    "# Прогнозирование на валидационной выборке\n",
    "y_pred = model.predict(X_val)"
   ]
  },
  {
   "cell_type": "markdown",
   "id": "236a1321-b9e5-4baa-9740-e9483ac34e79",
   "metadata": {},
   "source": [
    "### Оценим ошибку модели"
   ]
  },
  {
   "cell_type": "code",
   "execution_count": 133,
   "id": "24bcb82b-2d9d-4b65-b2d1-8744d0a6c9f1",
   "metadata": {},
   "outputs": [
    {
     "name": "stdout",
     "output_type": "stream",
     "text": [
      "Accuracy: 0.7798507462686567\n"
     ]
    }
   ],
   "source": [
    "# Оценка точности модели\n",
    "accuracy = accuracy_score(y_val, y_pred)\n",
    "print(f'Accuracy: {accuracy}')"
   ]
  },
  {
   "cell_type": "code",
   "execution_count": 134,
   "id": "c0c46cf2-508e-442b-984a-2794e7fbc170",
   "metadata": {},
   "outputs": [
    {
     "data": {
      "image/png": "[encoded data removed]",
      "text/plain": [
       "<Figure size 1800x700 with 2 Axes>"
      ]
     },
     "metadata": {},
     "output_type": "display_data"
    }
   ],
   "source": [
    "# Графики\n",
    "fig, ax = plt.subplots(1, 2, dpi=100, figsize=(18, 7))\n",
    "\n",
    "# Сравнение реальных значений и предсказанных\n",
    "ax[0].scatter(y_val, y_pred)\n",
    "ax[0].set_xlabel('Survived (Real)')\n",
    "ax[0].set_ylabel('Survived (Predicted)')\n",
    "\n",
    "# Гистограммы реальных и предсказанных значений\n",
    "ax[1].hist(y_val, bins=50, alpha=0.5, label='Real')\n",
    "ax[1].hist(y_pred, bins=50, alpha=0.5, label='Predicted')\n",
    "ax[1].set_xlabel('Survived')\n",
    "ax[1].set_ylabel('Frequency')\n",
    "ax[1].legend()\n",
    "\n",
    "plt.show()"
   ]
  },
  {
   "cell_type": "code",
   "execution_count": 135,
   "id": "d9c4fb02-5683-4b52-95c5-45cf451f5075",
   "metadata": {},
   "outputs": [],
   "source": [
    "##Сохраним модель\n",
    "with open('model_lr_train.pkl', 'wb') as file:\n",
    "    pickle.dump(model, file)"
   ]
  },
  {
   "cell_type": "markdown",
   "id": "99876a0d-77dd-4521-9d06-d5e9b38e6cab",
   "metadata": {},
   "source": [
    "### Работу выполнил"
   ]
  },
  {
   "cell_type": "markdown",
   "id": "c512ee8e-5bb2-48c2-8c18-54b1da7ea1b9",
   "metadata": {},
   "source": [
    "Смирнов Роман Евгеньевич РИ-230917"
   ]
  },
  {
   "cell_type": "code",
   "execution_count": null,
   "id": "c67ad60c-dca1-4991-8603-de20994c94b6",
   "metadata": {},
   "outputs": [],
   "source": []
  }
 ],
 "metadata": {
  "kernelspec": {
   "display_name": "Python 3 (ipykernel)",
   "language": "python",
   "name": "python3"
  },
  "language_info": {
   "codemirror_mode": {
    "name": "ipython",
    "version": 3
   },
   "file_extension": ".py",
   "mimetype": "text/x-python",
   "name": "python",
   "nbconvert_exporter": "python",
   "pygments_lexer": "ipython3",
   "version": "3.13.2"
  }
 },
 "nbformat": 4,
 "nbformat_minor": 5
}
